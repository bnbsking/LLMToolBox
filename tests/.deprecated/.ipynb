{
 "cells": [
  {
   "cell_type": "code",
   "execution_count": null,
   "id": "5135f02c",
   "metadata": {},
   "outputs": [
    {
     "name": "stdout",
     "output_type": "stream",
     "text": [
      "## Design Patterns in Python: A Blueprint for Reusable Solutions\n",
      "\n",
      "Design patterns are reusable solutions to commonly occurring problems in software design. They represent best practices that have been developed over time by experienced developers.  They're not code, libraries, or frameworks; they are blueprints or templates that you can adapt to solve specific design challenges in your code.\n",
      "\n",
      "Think of them as a common vocabulary for developers to discuss solutions.  Instead of saying, \"I'm creating a system where objects can be created through a central factory without specifying the exact class of object that will be created,\" you can simply say, \"I'm using the Factory pattern.\"\n",
      "\n",
      "**Why Use Design Patterns?**\n",
      "\n",
      "*   **Reusability:**  Design patterns provide tried-and-tested solutions, reducing the need to reinvent the wheel for common problems.\n",
      "*   **Maintainability:** Code using design patterns is often more organized, easier to understand, and easier to modify.\n",
      "*   **Readability:** Design patterns provide a common vocabulary, making code easier for other developers (and your future self) to understand.\n",
      "*   **Flexibility:** Design patterns often promote loose coupling and abstraction, making systems more adaptable to change.\n",
      "*   **Scalability:**  Well-designed systems using patterns can often scale more easily as requirements grow.\n",
      "\n",
      "**Key Characteristics of Design Patterns:**\n",
      "\n",
      "*   **Problem-solving:** They address recurring design issues.\n",
      "*   **Abstraction:** They provide abstract solutions that can be adapted to specific contexts.\n",
      "*   **Documentation:** They are well-documented and understood within the software development community.\n",
      "*   **Language-independent:** The core concepts are applicable across different programming languages, although the specific implementation may vary.\n",
      "\n",
      "**Categories of Design Patterns (Gang of Four - GoF):**\n",
      "\n",
      "The most well-known classification of design patterns comes from the book \"Design Patterns: Elements of Reusable Object-Oriented Software\" by the \"Gang of Four\" (GoF). They categorized patterns into three main types:\n",
      "\n",
      "1.  **Creational Patterns:**  Deal with object creation mechanisms, trying to create objects in a flexible and reusable way.\n",
      "    *   **Singleton:** Ensures that only one instance of a class is created and provides a global point of access to it.\n",
      "    *   **Factory Method:** Defines an interface for creating objects, but lets subclasses decide which class to instantiate.\n",
      "    *   **Abstract Factory:** Provides an interface for creating families of related or dependent objects without specifying their concrete classes.\n",
      "    *   **Builder:** Separates the construction of a complex object from its representation, allowing the same construction process to create different representations.\n",
      "    *   **Prototype:** Specifies the kinds of objects to create using a prototypical instance, and create new objects by copying this prototype.\n",
      "\n",
      "2.  **Structural Patterns:**  Deal with the composition of classes and objects to form larger structures.\n",
      "    *   **Adapter:** Allows classes with incompatible interfaces to work together.\n",
      "    *   **Bridge:** Decouples an abstraction from its implementation so that the two can vary independently.\n",
      "    *   **Composite:** Composes objects into tree structures to represent part-whole hierarchies.\n",
      "    *   **Decorator:** Dynamically adds responsibilities to an object without modifying its class.\n",
      "    *   **Facade:** Provides a simplified interface to a complex subsystem.\n",
      "    *   **Flyweight:** Uses sharing to support large numbers of fine-grained objects efficiently.\n",
      "    *   **Proxy:** Provides a surrogate or placeholder for another object to control access to it.\n",
      "\n",
      "3.  **Behavioral Patterns:**  Deal with algorithms and the assignment of responsibilities between objects.\n",
      "    *   **Chain of Responsibility:** Avoids coupling the sender of a request to its receiver by giving multiple objects a chance to handle the request.\n",
      "    *   **Command:** Encapsulates a request as an object, thereby letting you parameterize clients with different requests, queue or log requests, and support undoable operations.\n",
      "    *   **Interpreter:** Given a language, define a representation for its grammar along with an interpreter that uses the representation to interpret sentences in the language.\n",
      "    *   **Iterator:** Provides a way to access the elements of an aggregate object sequentially without exposing its underlying representation.\n",
      "    *   **Mediator:** Defines an object that encapsulates how a set of objects interact. Mediator promotes loose coupling by keeping objects from referring to each other explicitly, and lets you vary their interaction independently.\n",
      "    *   **Memento:** Without violating encapsulation, capture and externalize an object's internal state so that the object can be restored to this state later.\n",
      "    *   **Observer:** Defines a one-to-many dependency between objects so that when one object changes state, all its dependents are notified and updated automatically.\n",
      "    *   **State:** Allows an object to alter its behavior when its internal state changes. The object will appear to change its class.\n",
      "    *   **Strategy:** Defines a family of algorithms, encapsulate each one, and make them interchangeable. Strategy lets the algorithm vary independently from clients that use it.\n",
      "    *   **Template Method:** Defines the skeleton of an algorithm in a method, deferring some steps to subclasses. Template Method lets subclasses redefine certain steps of an algorithm without changing the algorithm's structure.\n",
      "    *   **Visitor:** Represents an operation to be performed on the elements of an object structure. Visitor lets you define a new operation without changing the classes of the elements on which it operates.\n",
      "\n",
      "**Python-Specific Considerations:**\n",
      "\n",
      "*   **Duck Typing:** Python's dynamic typing (duck typing) can sometimes simplify the implementation of design patterns.  You often don't need to explicitly declare interfaces, as long as objects provide the necessary methods.\n",
      "*   **Metaclasses:** Metaclasses can be used to implement some design patterns, such as Singleton, in a more elegant and concise way.\n",
      "*   **Decorators:** Python's decorator syntax provides a clean way to implement the Decorator pattern.\n",
      "*   **Dynamic Nature:** Python's dynamic nature allows for greater flexibility in applying and adapting design patterns.\n",
      "\n",
      "**Example (Singleton Pattern in Python):**\n",
      "\n",
      "```python\n",
      "class Singleton:\n",
      "    _instance = None  # Private class variable to hold the instance\n",
      "\n",
      "    def __new__(cls, *args, **kwargs):\n",
      "        if not cls._instance:\n",
      "            cls._instance = super().__new__(cls, *args, **kwargs)\n",
      "        return cls._instance\n",
      "\n",
      "    def __init__(self, data):\n",
      "        if not hasattr(self, 'data'): # Initialize only once\n",
      "            self.data = data\n",
      "\n",
      "\n",
      "# Usage\n",
      "instance1 = Singleton(\"Initial data\")\n",
      "instance2 = Singleton(\"New data\") # This will not overwrite the initial data\n",
      "\n",
      "print(instance1.data)  # Output: Initial data\n",
      "print(instance2.data)  # Output: Initial data (same instance)\n",
      "print(instance1 is instance2) #Output: True\n",
      "```\n",
      "\n",
      "**Important Considerations:**\n",
      "\n",
      "*   **Don't Overuse Patterns:**  Apply design patterns only when they are necessary to solve a specific problem.  Overusing patterns can lead to overly complex and less maintainable code.\n",
      "*   **Understand the Trade-offs:** Each pattern has its own trade-offs.  Consider the impact on performance, complexity, and maintainability before applying a pattern.\n",
      "*   **Adapt Patterns:**  Design patterns are blueprints, not rigid rules.  Adapt them to fit the specific needs of your project.\n",
      "*   **Learn by Example:**  Study real-world examples of design patterns in Python code to understand how they are applied in practice.\n",
      "\n",
      "In summary, design patterns provide a valuable toolbox for Python developers to create robust, maintainable, and scalable software. By understanding and applying these patterns appropriately, you can write code that is easier to understand, modify, and reuse.  Remember to use them judiciously and adapt them to your specific needs.\n"
     ]
    }
   ],
   "source": [
    "from langchain_google_genai import ChatGoogleGenerativeAI\n",
    "from langchain_core.messages import HumanMessage\n",
    "\n",
    "# instantiate\n",
    "llm = ChatGoogleGenerativeAI(\n",
    "    model=\"gemini-2.0-flash\",    # choose your model\n",
    "    temperature=0.7,             # adjust how “creative” the output is\n",
    "    max_tokens=None,\n",
    "    timeout=None,\n",
    "    max_retries=2,\n",
    "    google_api_key=\"\"       # pass your key or rely on env var\n",
    ")\n",
    "\n",
    "# example: simple human message\n",
    "msg = HumanMessage(content=\"Explain what design patterns are in Python.\")\n",
    "\n",
    "response = llm.invoke([msg])\n",
    "print(response.content)\n"
   ]
  },
  {
   "cell_type": "code",
   "execution_count": null,
   "id": "0c76e19a",
   "metadata": {},
   "outputs": [],
   "source": []
  },
  {
   "cell_type": "code",
   "execution_count": 2,
   "id": "1d4b769f",
   "metadata": {},
   "outputs": [
    {
     "name": "stdout",
     "output_type": "stream",
     "text": [
      "{'name': (<class 'str'>, Ellipsis), 'age': (<class 'int'>, Ellipsis), 'hobbies': (typing.List[str], Ellipsis)}\n",
      "name='Alice' age=30 hobbies=['reading', 'coding']\n"
     ]
    }
   ],
   "source": [
    "from pydantic import BaseModel, create_model\n",
    "from typing import List, Dict, Any, Type\n",
    "\n",
    "# Example dict schema\n",
    "response_format = {\n",
    "    \"name\": {\"type\": \"string\"},\n",
    "    \"age\": {\"type\": \"integer\"},\n",
    "    \"hobbies\": {\"type\": \"array\", \"items\": {\"type\": \"string\"}}\n",
    "}\n",
    "\n",
    "# Mapping from schema types to Python types\n",
    "type_map = {\n",
    "    \"string\": str,\n",
    "    \"integer\": int,\n",
    "    \"number\": float,\n",
    "    \"boolean\": bool,\n",
    "    \"array\": list,\n",
    "    \"object\": dict,\n",
    "}\n",
    "\n",
    "# Function to recursively convert schema to type\n",
    "def schema_to_type(schema: Dict[str, Any]) -> Any:\n",
    "    t = schema[\"type\"]\n",
    "    if t == \"array\":\n",
    "        item_type = schema_to_type(schema[\"items\"])\n",
    "        return List[item_type]\n",
    "    return type_map[t]\n",
    "\n",
    "# Build fields\n",
    "fields = {k: (schema_to_type(v), ...) for k, v in response_format.items()}\n",
    "print(fields)\n",
    "\n",
    "# Create Pydantic model dynamically\n",
    "Person: Type[BaseModel] = create_model(\"Person\", **fields)\n",
    "\n",
    "# Test it\n",
    "person = Person(name=\"Alice\", age=30, hobbies=[\"reading\", \"coding\"])\n",
    "print(person)\n"
   ]
  },
  {
   "cell_type": "code",
   "execution_count": 5,
   "id": "a01886e7",
   "metadata": {},
   "outputs": [
    {
     "data": {
      "text/plain": [
       "({'name': 'Alice', 'age': 30, 'hobbies': ['reading', 'coding']},\n",
       " __main__.Person)"
      ]
     },
     "execution_count": 5,
     "metadata": {},
     "output_type": "execute_result"
    }
   ],
   "source": [
    "dict(person), type(person)"
   ]
  },
  {
   "cell_type": "code",
   "execution_count": null,
   "id": "0843d8dc",
   "metadata": {},
   "outputs": [],
   "source": []
  }
 ],
 "metadata": {
  "kernelspec": {
   "display_name": "llmtoolbox-9TtSrW0h-py3.13",
   "language": "python",
   "name": "python3"
  },
  "language_info": {
   "codemirror_mode": {
    "name": "ipython",
    "version": 3
   },
   "file_extension": ".py",
   "mimetype": "text/x-python",
   "name": "python",
   "nbconvert_exporter": "python",
   "pygments_lexer": "ipython3",
   "version": "3.13.9"
  }
 },
 "nbformat": 4,
 "nbformat_minor": 5
}
